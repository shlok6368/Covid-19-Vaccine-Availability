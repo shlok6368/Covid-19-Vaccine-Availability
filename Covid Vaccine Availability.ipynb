{
 "cells": [
  {
   "cell_type": "markdown",
   "metadata": {
    "toc": true
   },
   "source": [
    "<h1>Table of Contents<span class=\"tocSkip\"></span></h1>\n",
    "<div class=\"toc\"><ul class=\"toc-item\"></ul></div>"
   ]
  },
  {
   "cell_type": "code",
   "execution_count": 2,
   "metadata": {
    "ExecuteTime": {
     "end_time": "2021-05-02T21:06:33.109976Z",
     "start_time": "2021-05-02T21:01:59.813257Z"
    }
   },
   "outputs": [
    {
     "name": "stdout",
     "output_type": "stream",
     "text": [
      "\n",
      "Searching State: Andaman and Nicobar Islands\n",
      "Searching State: Arunachal Pradesh\n",
      "Searching State: Assam\n",
      "Searching State: Chandigarh\n",
      "Searching State: Dadra and Nagar Haveli\n",
      "Searching State: Daman and Diu\n",
      "Searching State: Delhi\n",
      "Searching State: Goa\n",
      "Searching State: Haryana\n",
      "Searching State: Himachal Pradesh\n",
      "Searching State: Kerala\n",
      "Searching State: Ladakh\n",
      "Searching State: Lakshadweep\n",
      "Searching State: Madhya Pradesh\n",
      "Searching State: Manipur\n",
      "Searching State: Meghalaya\n",
      "Searching State: Mizoram\n",
      "Searching State: Nagaland\n",
      "Searching State: Odisha\n",
      "Searching State: Puducherry\n",
      "Searching State: Sikkim\n",
      "Searching State: Telangana\n",
      "Searching State: Tripura\n",
      "Searching State: Uttarakhand\n",
      "Searching State: West Bengal\n"
     ]
    }
   ],
   "source": [
    "import requests\n",
    "import datetime\n",
    "import pandas as pd\n",
    "now = datetime.date.today()\n",
    "print()\n",
    "\n",
    "#for India\n",
    "df = pd.DataFrame(columns=['date',\n",
    "    'center_id', 'name', 'state_name', 'district_name', 'block_name',\n",
    "    'pincode', 'lat', 'long', 'fee_type', 'session_id', \n",
    "    'available_capacity', 'min_age_limit', 'vaccine'\n",
    "])\n",
    "\n",
    "states = requests.get(\"https://cdn-api.co-vin.in/api/v2/admin/location/states\")\n",
    "\n",
    "state_list = []\n",
    "for state in states.json()['states']:    \n",
    "    state_list.append(state['state_name'])\n",
    "\n",
    "state_remove = ['Bihar',\n",
    "                'Gujarat',\n",
    "                'Chhattisgarh',\n",
    "                'Jammu and Kashmir',\n",
    "                'Jharkhand',\n",
    "                'Andhra Pradesh'\n",
    "                ,'Karnataka'\n",
    "                ,'Maharashtra'\n",
    "                ,'Rajasthan'\n",
    "                ,'Tamil Nadu'\n",
    "                ,'Punjab','Uttar Pradesh']\n",
    "state_yes = ['Haryana', 'Telangana']\n",
    "\n",
    "for state in states.json()['states']:\n",
    "    \n",
    "    if str(state['state_name']) not in state_remove:\n",
    "        stateUrl = 'https://cdn-api.co-vin.in/api/v2/admin/location/districts/' + str(\n",
    "        state['state_id'])\n",
    "    \n",
    "        print(\"Searching State: {state}\".format(state = state['state_name']))\n",
    "    \n",
    "        districts = requests.get(stateUrl)\n",
    "\n",
    "        for district in districts.json()['districts']:\n",
    "            districtUrl = 'https://cdn-api.co-vin.in/api/v2/appointment/sessions/public/calendarByDistrict?district_id=' + str(\n",
    "            district['district_id']) + \"&date=\" + str(now.strftime(\"%d-%m-%Y\"))\n",
    "\n",
    "            vaccineByDistrict = requests.get(districtUrl)\n",
    "\n",
    "            for center in vaccineByDistrict.json()['centers']:\n",
    "\n",
    "                for sessions in center['sessions']:\n",
    "                    if(sessions['available_capacity']>0):\n",
    "                        df_1 = pd.DataFrame(sessions)\n",
    "                        df_1['center_id'] = center['center_id']\n",
    "                        df_1['name'] = center['name']\n",
    "                        df_1['state_name'] = center['state_name']\n",
    "                        df_1['district_name'] = center['district_name']\n",
    "                        df_1['block_name'] = center['block_name']\n",
    "                        df_1['pincode'] = center['pincode']\n",
    "                        df_1['lat'] = center['lat']\n",
    "                        df_1['long'] = center['long']\n",
    "                        df_1['fee_type'] = center['fee_type']\n",
    "                        df = df.append(df_1.drop(columns = ['slots']).drop_duplicates())"
   ]
  },
  {
   "cell_type": "code",
   "execution_count": 4,
   "metadata": {
    "ExecuteTime": {
     "end_time": "2021-05-02T21:08:27.023394Z",
     "start_time": "2021-05-02T21:08:27.016413Z"
    }
   },
   "outputs": [
    {
     "data": {
      "text/plain": [
       "(14097, 14)"
      ]
     },
     "execution_count": 4,
     "metadata": {},
     "output_type": "execute_result"
    }
   ],
   "source": [
    "df.shape"
   ]
  },
  {
   "cell_type": "code",
   "execution_count": 6,
   "metadata": {
    "ExecuteTime": {
     "end_time": "2021-05-02T21:31:23.428622Z",
     "start_time": "2021-05-02T21:31:23.292976Z"
    }
   },
   "outputs": [],
   "source": [
    "df.to_csv('Covid.csv')"
   ]
  },
  {
   "cell_type": "code",
   "execution_count": null,
   "metadata": {},
   "outputs": [],
   "source": []
  }
 ],
 "metadata": {
  "kernelspec": {
   "display_name": "Python 3",
   "language": "python",
   "name": "python3"
  },
  "language_info": {
   "codemirror_mode": {
    "name": "ipython",
    "version": 3
   },
   "file_extension": ".py",
   "mimetype": "text/x-python",
   "name": "python",
   "nbconvert_exporter": "python",
   "pygments_lexer": "ipython3",
   "version": "3.7.3"
  },
  "toc": {
   "base_numbering": 1,
   "nav_menu": {},
   "number_sections": true,
   "sideBar": true,
   "skip_h1_title": true,
   "title_cell": "Table of Contents",
   "title_sidebar": "Contents",
   "toc_cell": true,
   "toc_position": {},
   "toc_section_display": true,
   "toc_window_display": false
  },
  "varInspector": {
   "cols": {
    "lenName": 16,
    "lenType": 16,
    "lenVar": 40
   },
   "kernels_config": {
    "python": {
     "delete_cmd_postfix": "",
     "delete_cmd_prefix": "del ",
     "library": "var_list.py",
     "varRefreshCmd": "print(var_dic_list())"
    },
    "r": {
     "delete_cmd_postfix": ") ",
     "delete_cmd_prefix": "rm(",
     "library": "var_list.r",
     "varRefreshCmd": "cat(var_dic_list()) "
    }
   },
   "types_to_exclude": [
    "module",
    "function",
    "builtin_function_or_method",
    "instance",
    "_Feature"
   ],
   "window_display": false
  }
 },
 "nbformat": 4,
 "nbformat_minor": 4
}
